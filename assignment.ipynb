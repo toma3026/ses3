{
 "cells": [
  {
   "cell_type": "markdown",
   "metadata": {},
   "source": [
    "Assignment 1"
   ]
  },
  {
   "cell_type": "markdown",
   "metadata": {},
   "source": [
    "1."
   ]
  },
  {
   "cell_type": "code",
   "execution_count": 16,
   "metadata": {},
   "outputs": [
    {
     "name": "stdout",
     "output_type": "stream",
     "text": [
      "who in the board of directors is not an employee?\n",
      "{'Torben', 'Hans', 'Benny', 'Mille', 'Søren', 'Troels'}\n",
      "who in the board of directors is also an employee?\n",
      "{'Tine'}\n",
      "how many of the management is also member of the board?\n",
      "1\n",
      "All members of the managent also an employee\n",
      "True\n",
      "All members of the management also in the board?\n",
      "False\n",
      "Who is an employee, member of the management, and a member of the board?\n",
      "{'Tine'}\n",
      "Who of the employee is neither a memeber or the board or management?\n",
      "{'Stine', 'Claus', 'Anna', 'Allan', 'Bent', 'Lars', 'James', 'Ole', 'Niels'}\n"
     ]
    }
   ],
   "source": [
    "board = {\"Benny\", \"Hans\", \"Tine\", \"Mille\", \"Torben\", \"Troels\", \"Søren\"}\n",
    "management = {\"Tine\", \"Trunte\", \"Rane\"}\n",
    "employees = {\"Niels\", \"Anna\", \"Tine\", \"Ole\", \"Trunte\", \"Bent\", \"Rane\", \"Allan\", \"Stine\", \"Claus\", \"James\", \"Lars\"}\n",
    "\n",
    "print(\"who in the board of directors is not an employee?\")\n",
    "print(board.difference(employees))\n",
    "print(\"who in the board of directors is also an employee?\")\n",
    "print(board.intersection(employees))\n",
    "print(\"how many of the management is also member of the board?\")\n",
    "print(len(management.intersection(board)))\n",
    "print(\"All members of the managent also an employee\")\n",
    "print(management.issubset(employees))\n",
    "print(\"All members of the management also in the board?\")\n",
    "print(management.issubset(board))\n",
    "print(\"Who is an employee, member of the management, and a member of the board?\")\n",
    "print((employees.intersection(management)).intersection(board))\n",
    "print(\"Who of the employee is neither a memeber or the board or management?\")\n",
    "print(employees.difference(board.union(management)))"
   ]
  },
  {
   "cell_type": "markdown",
   "metadata": {},
   "source": [
    "2."
   ]
  },
  {
   "cell_type": "code",
   "execution_count": null,
   "metadata": {},
   "outputs": [],
   "source": []
  }
 ],
 "metadata": {
  "kernelspec": {
   "display_name": ".venv",
   "language": "python",
   "name": "python3"
  },
  "language_info": {
   "codemirror_mode": {
    "name": "ipython",
    "version": 3
   },
   "file_extension": ".py",
   "mimetype": "text/x-python",
   "name": "python",
   "nbconvert_exporter": "python",
   "pygments_lexer": "ipython3",
   "version": "3.11.5"
  },
  "orig_nbformat": 4
 },
 "nbformat": 4,
 "nbformat_minor": 2
}
