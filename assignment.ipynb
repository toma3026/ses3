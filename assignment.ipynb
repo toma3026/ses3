{
 "cells": [
  {
   "cell_type": "markdown",
   "metadata": {},
   "source": [
    "Assignment 1"
   ]
  },
  {
   "cell_type": "markdown",
   "metadata": {},
   "source": [
    "1."
   ]
  },
  {
   "cell_type": "code",
   "execution_count": 112,
   "metadata": {},
   "outputs": [
    {
     "name": "stdout",
     "output_type": "stream",
     "text": [
      "who in the board of directors is not an employee?\n",
      "{'Søren', 'Torben', 'Troels', 'Mille', 'Hans', 'Benny'}\n",
      "who in the board of directors is also an employee?\n",
      "{'Tine'}\n",
      "how many of the management is also member of the board?\n",
      "1\n",
      "All members of the managent also an employee\n",
      "True\n",
      "All members of the management also in the board?\n",
      "False\n",
      "Who is an employee, member of the management, and a member of the board?\n",
      "{'Tine'}\n",
      "Who of the employee is neither a memeber or the board or management?\n",
      "{'Niels', 'Bent', 'Stine', 'Anna', 'Lars', 'Allan', 'Ole', 'James', 'Claus'}\n"
     ]
    }
   ],
   "source": [
    "board = {\"Benny\", \"Hans\", \"Tine\", \"Mille\", \"Torben\", \"Troels\", \"Søren\"}\n",
    "management = {\"Tine\", \"Trunte\", \"Rane\"}\n",
    "employees = {\"Niels\", \"Anna\", \"Tine\", \"Ole\", \"Trunte\", \"Bent\", \"Rane\", \"Allan\", \"Stine\", \"Claus\", \"James\", \"Lars\"}\n",
    "\n",
    "print(\"who in the board of directors is not an employee?\")\n",
    "print(board.difference(employees))\n",
    "print(\"who in the board of directors is also an employee?\")\n",
    "print(board.intersection(employees))\n",
    "print(\"how many of the management is also member of the board?\")\n",
    "print(len(management.intersection(board)))\n",
    "print(\"All members of the managent also an employee\")\n",
    "print(management.issubset(employees))\n",
    "print(\"All members of the management also in the board?\")\n",
    "print(management.issubset(board))\n",
    "print(\"Who is an employee, member of the management, and a member of the board?\")\n",
    "print((employees.intersection(management)).intersection(board))\n",
    "print(\"Who of the employee is neither a memeber or the board or management?\")\n",
    "print(employees.difference(board.union(management)))"
   ]
  },
  {
   "cell_type": "markdown",
   "metadata": {},
   "source": [
    "2."
   ]
  },
  {
   "cell_type": "code",
   "execution_count": 113,
   "metadata": {},
   "outputs": [
    {
     "name": "stdout",
     "output_type": "stream",
     "text": [
      "[('a', 'Alpha'), ('b', 'Beta'), ('g', 'Gamma')]\n"
     ]
    }
   ],
   "source": [
    "l = [('a', 'Alpha'), ('b', 'Beta'), ('g', 'Gamma')]\n",
    "print(l)"
   ]
  },
  {
   "cell_type": "markdown",
   "metadata": {},
   "source": [
    "3."
   ]
  },
  {
   "cell_type": "code",
   "execution_count": 114,
   "metadata": {},
   "outputs": [
    {
     "name": "stdout",
     "output_type": "stream",
     "text": [
      "union\n",
      "{'o', 'e', 'i', 'å', 'u', 'ø', 'y', 'æ', 'a'}\n",
      "{'o', 'e', 'i', 'å', 'u', 'ø', 'y', 'æ', 'a'}\n",
      "symmetric difference\n",
      "{'å', 'ø', 'æ'}\n",
      "{'å', 'ø', 'æ'}\n",
      "difference\n",
      "set()\n",
      "set()\n",
      "disjoint\n",
      "{'o', 'e', 'i', 'u', 'y', 'a'}\n",
      "{'o', 'e', 'i', 'u', 'y', 'a'}\n"
     ]
    }
   ],
   "source": [
    "s1 = {'a', 'e', 'i', 'o', 'u', 'y'}\n",
    "s2 = {'a', 'e', 'i', 'o', 'u', 'y', 'æ' ,'ø', 'å'}\n",
    "\n",
    "print(\"union\")\n",
    "print(s1.union(s2))\n",
    "print(s1 | s2)\n",
    "print(\"symmetric difference\")\n",
    "print(s1.symmetric_difference(s2))\n",
    "print(s1 ^ s2)\n",
    "print(\"difference\")\n",
    "print(s1.difference(s2))\n",
    "print(s1 - s2)\n",
    "print(\"disjoint\")\n",
    "print(s1.intersection(s2))\n",
    "print(s1 & s2)"
   ]
  },
  {
   "cell_type": "markdown",
   "metadata": {},
   "source": [
    "4."
   ]
  },
  {
   "cell_type": "code",
   "execution_count": 115,
   "metadata": {},
   "outputs": [
    {
     "name": "stdout",
     "output_type": "stream",
     "text": [
      "('85', 'MAR', '8')\n",
      "08-03-1985\n",
      "('85', 'MAR', '08')\n",
      "08-03-1985\n",
      "('85', 'MAR', '28')\n",
      "28-03-1985\n"
     ]
    }
   ],
   "source": [
    "datedict = {\n",
    "    \"JAN\": \"01\",\n",
    "    \"FEB\": \"02\",\n",
    "    \"MAR\": \"03\",\n",
    "    \"APR\": \"04\",\n",
    "    \"MAY\": \"05\",\n",
    "    \"JUN\": \"06\",\n",
    "    \"JUL\": \"07\",\n",
    "    \"AUG\": \"08\",\n",
    "    \"SEP\": \"09\",\n",
    "    \"OCT\": \"10\",\n",
    "    \"NOV\": \"11\",\n",
    "    \"DEC\": \"12\"\n",
    "}\n",
    "\n",
    "def f1(date):\n",
    "    d = date.split(\"-\")\n",
    "    return (d[2], d[1], d[0])\n",
    "\n",
    "\n",
    "def f2(date):\n",
    "    d = f1(date)\n",
    "    result = d[2] + \"-\" + datedict[d[1]] + \"-\" + \"19\" + d[0]\n",
    "    if len(d[2]) == 1:\n",
    "        result = \"0\" + result\n",
    "    return result\n",
    "\n",
    "testdate1 = \"8-MAR-85\"\n",
    "testdate2 = \"08-MAR-85\"\n",
    "testdate3 = \"28-MAR-85\"\n",
    "\n",
    "print(f1(testdate1))\n",
    "print(f2(testdate1))\n",
    "print(f1(testdate2))\n",
    "print(f2(testdate2))\n",
    "print(f1(testdate3))\n",
    "print(f2(testdate3))\n",
    "\n"
   ]
  }
 ],
 "metadata": {
  "kernelspec": {
   "display_name": ".venv",
   "language": "python",
   "name": "python3"
  },
  "language_info": {
   "codemirror_mode": {
    "name": "ipython",
    "version": 3
   },
   "file_extension": ".py",
   "mimetype": "text/x-python",
   "name": "python",
   "nbconvert_exporter": "python",
   "pygments_lexer": "ipython3",
   "version": "3.11.5"
  },
  "orig_nbformat": 4
 },
 "nbformat": 4,
 "nbformat_minor": 2
}
